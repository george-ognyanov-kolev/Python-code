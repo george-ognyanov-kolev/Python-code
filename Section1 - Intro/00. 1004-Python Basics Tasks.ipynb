{
 "cells": [
  {
   "cell_type": "markdown",
   "metadata": {},
   "source": [
    "# Python Basics Tasks"
   ]
  },
  {
   "cell_type": "code",
   "execution_count": 11,
   "metadata": {
    "collapsed": true
   },
   "outputs": [],
   "source": [
    "#YOUR IMPORTS HERE"
   ]
  },
  {
   "cell_type": "markdown",
   "metadata": {
    "collapsed": true
   },
   "source": [
    "### Task 1.\t\n",
    "Write a program that prints in a list the numbers from 0 to 15 (inclusive), each number multiplied by itself, while skipping the numbers 3, 6 and 9."
   ]
  },
  {
   "cell_type": "code",
   "execution_count": 3,
   "metadata": {
    "scrolled": true
   },
   "outputs": [
    {
     "name": "stdout",
     "output_type": "stream",
     "text": [
      "[0, 1, 4, 16, 25, 49, 64, 100, 121, 144, 169, 196, 225]\n"
     ]
    }
   ],
   "source": [
    "#YOUR CODE HERE"
   ]
  },
  {
   "cell_type": "markdown",
   "metadata": {},
   "source": [
    "### Task 2.\t\n",
    "Write a program that prints the Fibonacci Sequence from the 5th till the 15th element of the sequence."
   ]
  },
  {
   "cell_type": "code",
   "execution_count": 3,
   "metadata": {
    "collapsed": true
   },
   "outputs": [],
   "source": [
    "#YOUR CODE HERE"
   ]
  },
  {
   "cell_type": "markdown",
   "metadata": {},
   "source": [
    "### Task 3.\n",
    "Write a function that prints the type of each element of a list. Test the function by passing the following lists:\n",
    "\n",
    "    a.\tdata = [15, 'Python', 15.14, 51+31j, False, ('Python',32), [12, 16, 17]]\n",
    "    \n",
    "    b.\tflatten the [data] list from above, i.e. make sure there is no nesting of elements\n"
   ]
  },
  {
   "cell_type": "code",
   "execution_count": 1,
   "metadata": {},
   "outputs": [],
   "source": [
    "#YOUR CODE HERE"
   ]
  },
  {
   "attachments": {
    "image.png": {
     "image/png": "[encoded data removed]"
    }
   },
   "cell_type": "markdown",
   "metadata": {},
   "source": [
    "### Task 4.\n",
    "Write a function that accepts [top_row] and [bottom_row] row sequence from Pascal’s triangle and prints its members, e.g [top_row] = 1 and [bottom_row] = 5 from image below.\n",
    "\n",
    "![image.png](attachment:image.png)"
   ]
  },
  {
   "cell_type": "code",
   "execution_count": 5,
   "metadata": {
    "collapsed": true
   },
   "outputs": [],
   "source": [
    "#YOUR CODE HERE"
   ]
  },
  {
   "cell_type": "markdown",
   "metadata": {},
   "source": [
    "### Task 5.\n",
    "Write a function that prompts the user for an input integer and then prints out all of the divisors of this number."
   ]
  },
  {
   "cell_type": "code",
   "execution_count": 8,
   "metadata": {},
   "outputs": [
    {
     "name": "stdout",
     "output_type": "stream",
     "text": [
      "Enter and integer number: 100\n",
      "1\n",
      "2\n",
      "4\n",
      "5\n",
      "10\n",
      "20\n",
      "25\n",
      "50\n"
     ]
    }
   ],
   "source": [
    "#YOUR CODE HERE\n",
    "def myfunc():\n",
    "    x = int(input(\"Enter and integer number: \"))\n",
    "    i = 1\n",
    "    while i<x:\n",
    "        if x % i == 0:\n",
    "            print(i)\n",
    "        i=i+1\n",
    "myfunc()"
   ]
  },
  {
   "cell_type": "markdown",
   "metadata": {},
   "source": [
    "### Task 6.\n",
    "Write a function that prompts the user for a string and then prints out weather the string is read the same forwards and backwards, e.g. “Level”"
   ]
  },
  {
   "cell_type": "code",
   "execution_count": 38,
   "metadata": {},
   "outputs": [
    {
     "name": "stdout",
     "output_type": "stream",
     "text": [
      "Enter string: asdkj\n"
     ]
    },
    {
     "data": {
      "text/plain": [
       "False"
      ]
     },
     "execution_count": 38,
     "metadata": {},
     "output_type": "execute_result"
    }
   ],
   "source": [
    "#YOUR CODE HERE\n",
    "def myfunc():\n",
    "    var = input(\"Enter string: \")\n",
    "    rav = var[::-1]\n",
    "    a = var.replace(' ','')\n",
    "    b = rav.replace(' ','')\n",
    "    if a == b:\n",
    "        return True\n",
    "    else:\n",
    "        return False\n",
    "myfunc()"
   ]
  },
  {
   "cell_type": "markdown",
   "metadata": {},
   "source": [
    "### Task 7.\n",
    "Write a function which generates unique passwords. The passwords should contain - lowercase letters, uppercase letters, numbers, and the following symbols: !@#$%^&*()?"
   ]
  },
  {
   "cell_type": "code",
   "execution_count": 36,
   "metadata": {},
   "outputs": [
    {
     "name": "stdout",
     "output_type": "stream",
     "text": [
      "Enter string: 12\n",
      "38f%9#Ea066@\n"
     ]
    }
   ],
   "source": [
    "#YOUR CODE HERE\n",
    "import random\n",
    "import string\n",
    "# Define a variable for the user to choose how long the password will be\n",
    "# Convert said variable to integer because range wouldn't take string values\n",
    "def passfunc():\n",
    "\tvar = int(input(\"Enter string: \"))\n",
    "\tpassword = '' . join([random.choice(string.hexdigits + \"!@#$%^&*()?\") \n",
    "\tfor n in range(var)])\n",
    "\tprint (password)\n",
    "\n",
    "passfunc()"
   ]
  },
  {
   "cell_type": "markdown",
   "metadata": {},
   "source": [
    "### Task 8.\n",
    "Write a function for converting USD to BGN, round the results to two digits after the decimal point. Use the fixed exchange rate of 1 USD = 1.79549 BGN. Function must accept the source currency and source amount as parameters."
   ]
  },
  {
   "cell_type": "code",
   "execution_count": 41,
   "metadata": {},
   "outputs": [
    {
     "name": "stdout",
     "output_type": "stream",
     "text": [
      "source currency: USD\n",
      "source amount: 15\n",
      "26.93\n"
     ]
    }
   ],
   "source": [
    "#YOUR CODE HERE\n",
    "def convfunc():\n",
    "    sc = input (\"source currency: \")\n",
    "    sa = int(input (\"source amount: \"))\n",
    "    if sc == \"USD\":\n",
    "        ea = sa * 1.79549\n",
    "    elif sc == \"BGN\":\n",
    "        ea = sa / 1.79549\n",
    "    else:\n",
    "        print (\"Invalid currency!\")\n",
    "    print(round(ea,2))\n",
    "convfunc()"
   ]
  },
  {
   "cell_type": "markdown",
   "metadata": {},
   "source": [
    "### Task 9.\n",
    "Write a function for converting BGN, USD, EUR and GBP between each other based on user prompt input regarding source currency, target currency and source amount. Round the results to two digits after the decimal point using the following fixed rates:\n",
    "\n",
    "| Exchange Rate | USD     | EUR        |      GBP |\n",
    "|:-------------:|---------|------------|---------:|\n",
    "| 1 BGN         | 1.57588 | 1.95583    | 2.206240 |"
   ]
  },
  {
   "cell_type": "code",
   "execution_count": 47,
   "metadata": {},
   "outputs": [
    {
     "name": "stdout",
     "output_type": "stream",
     "text": [
      "source currency: USD\n",
      "target currency: GBP\n",
      "source amount: 132\n",
      "107.47\n"
     ]
    }
   ],
   "source": [
    "#YOUR CODE HERE\n",
    "def convfunc():\n",
    "    sc = input (\"source currency: \")\n",
    "    tc = input (\"target currency: \")\n",
    "    sa = int(input (\"source amount: \"))\n",
    "# Convert BGN to USD and USD to BGN\n",
    "    if sc == 'BGN' and tc == 'USD':\n",
    "        ta = sa * 1.57558\n",
    "    elif sc == 'USD' and tc == 'BGN':\n",
    "        ta = sa / 1.57558\n",
    "# Convert BGN to EUR and EUR to BGN\n",
    "    elif sc == 'BGN' and tc == 'EUR':\n",
    "        ta = sa * 1.95583\n",
    "    elif sc == 'EUR' and tc == 'BGN':\n",
    "        ta = sa / 1.95583\n",
    "# Convert BGN to GBP and GBP to BGN\n",
    "    elif sc == 'BGN' and tc == 'GBP':\n",
    "        ta = sa * 2.206240\n",
    "    elif sc == 'GBP' and tc == 'BGN':\n",
    "        ta = sa / 2.206240\n",
    "# Convert USD to GBP and GBP to USD\n",
    "    elif sc == 'USD' and tc == 'GBP':\n",
    "        ta = sa * 0.814130\n",
    "    elif sc == 'GBP' and tc == 'USD':\n",
    "        ta = sa / 0.814130\n",
    "    else:\n",
    "        print (\"Invalid currency!\")\n",
    "    print(round(ta,2))\n",
    "convfunc()"
   ]
  },
  {
   "cell_type": "markdown",
   "metadata": {},
   "source": [
    "### <center> When ready please submit on Moodle! </center>\n",
    "### <center>  Good luck! :) </center> "
   ]
  }
 ],
 "metadata": {
  "kernelspec": {
   "display_name": "Python 3",
   "language": "python",
   "name": "python3"
  },
  "language_info": {
   "codemirror_mode": {
    "name": "ipython",
    "version": 3
   },
   "file_extension": ".py",
   "mimetype": "text/x-python",
   "name": "python",
   "nbconvert_exporter": "python",
   "pygments_lexer": "ipython3",
   "version": "3.7.3"
  }
 },
 "nbformat": 4,
 "nbformat_minor": 2
}
