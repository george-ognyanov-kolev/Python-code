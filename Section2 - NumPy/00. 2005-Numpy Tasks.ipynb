{
 "cells": [
  {
   "cell_type": "markdown",
   "metadata": {},
   "source": [
    "# Numpy Tasks"
   ]
  },
  {
   "cell_type": "code",
   "execution_count": 1,
   "metadata": {
    "collapsed": true
   },
   "outputs": [],
   "source": [
    "#YOUR IMPORTS HERE"
   ]
  },
  {
   "cell_type": "markdown",
   "metadata": {},
   "source": [
    "### Task 1.\n",
    "Create the following pattern by starting from a 5 by 5 null matrix:\n",
    "<br/>[[5 5 5 5 5]\n",
    " <br/>&nbsp;[5 0 0 0 5]\n",
    " <br/>&nbsp;[5 0 0 0 5]\n",
    " <br/>&nbsp;[5 0 0 0 5]\n",
    " <br/>&nbsp;[5 5 5 5 5]]"
   ]
  },
  {
   "cell_type": "code",
   "execution_count": 2,
   "metadata": {
    "collapsed": true
   },
   "outputs": [],
   "source": [
    "#YOUR CODE HERE"
   ]
  },
  {
   "cell_type": "markdown",
   "metadata": {},
   "source": [
    "### Task 2.\n",
    "Make a vector (1d array) containing the integer numbers from 5 to 29."
   ]
  },
  {
   "cell_type": "code",
   "execution_count": 3,
   "metadata": {
    "collapsed": true
   },
   "outputs": [],
   "source": [
    "#YOUR CODE HERE"
   ]
  },
  {
   "cell_type": "markdown",
   "metadata": {},
   "source": [
    "### Task 3.\n",
    "Make a null vector (1d array) with twenty elements. Change the value of the thrid element to 3."
   ]
  },
  {
   "cell_type": "code",
   "execution_count": 4,
   "metadata": {
    "collapsed": true
   },
   "outputs": [],
   "source": [
    "#YOUR CODE HERE"
   ]
  },
  {
   "cell_type": "markdown",
   "metadata": {},
   "source": [
    "### Task 4.\n",
    "You are given the following array: [1, 2, 3, 4, 5, 6, 7, 8, 9]. Reverse it and print the result."
   ]
  },
  {
   "cell_type": "code",
   "execution_count": 5,
   "metadata": {
    "collapsed": true
   },
   "outputs": [],
   "source": [
    "#YOUR CODE HERE"
   ]
  },
  {
   "cell_type": "markdown",
   "metadata": {},
   "source": [
    "### Task 5.\n",
    "You are given the following array: [0, 7, 0, 3, 4, 0, 15, 0]. Find and print the indices of all non-zero elements of the vector."
   ]
  },
  {
   "cell_type": "code",
   "execution_count": 6,
   "metadata": {
    "collapsed": true
   },
   "outputs": [],
   "source": [
    "#YOUR CODE HERE"
   ]
  },
  {
   "cell_type": "markdown",
   "metadata": {},
   "source": [
    "### Task 6.\n",
    "Create the following matrix by starting from a 5 by 5 identity matrix.\n",
    "<br/>[[0 0 0 0 5]\n",
    "<br/>&nbsp;[0 0 0 5 0]\n",
    "<br/>&nbsp;[0 0 5 0 0]\n",
    "<br/>&nbsp;[0 5 0 0 0]\n",
    "<br/>&nbsp;[5 0 0 0 0]]"
   ]
  },
  {
   "cell_type": "code",
   "execution_count": 7,
   "metadata": {
    "collapsed": true
   },
   "outputs": [],
   "source": [
    "#YOUR CODE HERE"
   ]
  },
  {
   "cell_type": "markdown",
   "metadata": {},
   "source": [
    "### Task 7.\n",
    "Fill a 10 by 10 array with random values and print out the maximum value as well as the minimum value."
   ]
  },
  {
   "cell_type": "code",
   "execution_count": 8,
   "metadata": {
    "collapsed": true
   },
   "outputs": [],
   "source": [
    "#YOUR CODE HERE"
   ]
  },
  {
   "cell_type": "markdown",
   "metadata": {},
   "source": [
    "### Task 8.\n",
    "Create a matrix of all zeroes which contains the odd numbers from 1 to 10 above the secondary diagonal. \n",
    "<br/>[[0 0 0 0 9 0]\n",
    "<br/>&nbsp;[0 0 0 7 0 0]\n",
    "<br/>&nbsp;[0 0 5 0 0 0]\n",
    "<br/>&nbsp;[0 3 0 0 0 0]\n",
    "<br/>&nbsp;[1 0 0 0 0 0]\n",
    "<br/>&nbsp;[0 0 0 0 0 0]]"
   ]
  },
  {
   "cell_type": "code",
   "execution_count": 9,
   "metadata": {
    "collapsed": true
   },
   "outputs": [],
   "source": [
    "#YOUR CODE HERE"
   ]
  },
  {
   "cell_type": "markdown",
   "metadata": {},
   "source": [
    "### Task 9.\n",
    "Create the following pattern using the tile function:\n",
    "<br/>[[7 0 7 0 7 0 7 0]\n",
    "<br/>&nbsp;[0 7 0 7 0 7 0 7]\n",
    "<br/>&nbsp;[7 0 7 0 7 0 7 0]\n",
    "<br/>&nbsp;[0 7 0 7 0 7 0 7]\n",
    "<br/>&nbsp;[7 0 7 0 7 0 7 0]\n",
    "<br/>&nbsp;[0 7 0 7 0 7 0 7]\n",
    "<br/>&nbsp;[7 0 7 0 7 0 7 0]\n",
    "<br/>&nbsp;[0 7 0 7 0 7 0 7]]"
   ]
  },
  {
   "cell_type": "code",
   "execution_count": 10,
   "metadata": {
    "collapsed": true
   },
   "outputs": [],
   "source": [
    "#YOUR CODE HERE"
   ]
  },
  {
   "cell_type": "markdown",
   "metadata": {},
   "source": [
    "### Tsks 10. \n",
    "Create the following pattern by starting from a 6 by 8 null matrix and using slicing:\n",
    "<br/>[[0 5 0 5 0 5 0 5]\n",
    "<br/>&nbsp;[3 0 3 0 3 0 3 0]\n",
    "<br/>&nbsp;[0 5 0 5 0 5 0 5]\n",
    "<br/>&nbsp;[3 0 3 0 3 0 3 0]\n",
    "<br/>&nbsp;[0 5 0 5 0 5 0 5]\n",
    "<br/>&nbsp;[3 0 3 0 3 0 3 0]]"
   ]
  },
  {
   "cell_type": "code",
   "execution_count": 11,
   "metadata": {
    "collapsed": true
   },
   "outputs": [],
   "source": [
    "#YOUR CODE HERE"
   ]
  },
  {
   "cell_type": "markdown",
   "metadata": {},
   "source": [
    "### Taks 11. \n",
    "Make a vector (1d array) with 10 random integer values, replace the maximum element by 999 and print out the vector."
   ]
  },
  {
   "cell_type": "code",
   "execution_count": 12,
   "metadata": {
    "collapsed": true
   },
   "outputs": [],
   "source": [
    "#YOUR CODE HERE"
   ]
  },
  {
   "cell_type": "markdown",
   "metadata": {},
   "source": [
    "### Taks 12. \n",
    "You have the following 2 matrices: <br>\n",
    "C = |3|     \n",
    "&nbsp;&nbsp;&nbsp;&nbsp;&nbsp;&nbsp; |2|\n",
    "<br>&nbsp;&nbsp;&nbsp;&nbsp;&nbsp;&nbsp; |1|\n",
    "<br>D = |5 6|\n",
    "\n",
    "Print out the matrix which is the product of C and D (P = C x D). Print out the shape of that resulting matrix as well as the sum of all its elements.\n"
   ]
  },
  {
   "cell_type": "code",
   "execution_count": 13,
   "metadata": {
    "collapsed": true
   },
   "outputs": [],
   "source": [
    "#YOUR CODE HERE"
   ]
  },
  {
   "cell_type": "markdown",
   "metadata": {},
   "source": [
    "### Problem 13. \n",
    "You have the following array [ 1.1,  nan,  3.3,  4.4,  5.5,  nan,  7.7,  8.8,  nan]. Replace all NaN values with 0 and print out the resulting array."
   ]
  },
  {
   "cell_type": "code",
   "execution_count": 14,
   "metadata": {
    "collapsed": true
   },
   "outputs": [],
   "source": [
    "#YOUR CODE HERE"
   ]
  },
  {
   "cell_type": "markdown",
   "metadata": {},
   "source": [
    "### <center> When ready please submit on Moodle! </center>\n",
    "### <center>  Good luck! :) </center> "
   ]
  }
 ],
 "metadata": {
  "kernelspec": {
   "display_name": "Python 3",
   "language": "python",
   "name": "python3"
  },
  "language_info": {
   "codemirror_mode": {
    "name": "ipython",
    "version": 3
   },
   "file_extension": ".py",
   "mimetype": "text/x-python",
   "name": "python",
   "nbconvert_exporter": "python",
   "pygments_lexer": "ipython3",
   "version": "3.6.3"
  }
 },
 "nbformat": 4,
 "nbformat_minor": 2
}
